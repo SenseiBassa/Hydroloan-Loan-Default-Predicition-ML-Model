{
  "cells": [
    {
      "cell_type": "markdown",
      "metadata": {
        "id": "view-in-github",
        "colab_type": "text"
      },
      "source": [
        "<a href=\"https://colab.research.google.com/github/SenseiBassa/Hydroloan-Loan-Default-Predicition-ML-Model/blob/main/Hydroloan_Fintech_Loan_Default_Predicition_ML_Model.ipynb\" target=\"_parent\"><img src=\"https://colab.research.google.com/assets/colab-badge.svg\" alt=\"Open In Colab\"/></a>"
      ]
    },
    {
      "cell_type": "markdown",
      "metadata": {
        "id": "NeK-VxRnz9RR"
      },
      "source": [
        "## **Bassa Joshua Samuel**\n",
        "---\n",
        "\n",
        "## **Hydroloan Fintech Loan Default Predicition ML Model**\n",
        "---\n",
        "\n",
        "\n",
        "## **Introduction:**\n",
        "\n",
        "---\n",
        "\n",
        "Hydroloan, a fintech firm, is transforming the conventional lending sector by provic Using cutting-edge technology and advanced analytics, Hydroloan delivers swift, c loans to both individuals and businesses. With simplified procedures and an easy- quickly apply for and obtain loans within minutes. Hydroloan's interest rates are hi provide flexible reparment options that alleviate the burden of complicated paperw Hydroloan is dedicated to delivering excellent service and assisting borrowers in n objectives.\n",
        "\n",
        "## **Problem:**\n",
        "\n",
        "---\n",
        "\n",
        "Hydroloan, a loan provider, has noticed that several of their customers are failing to make prompt payment of their loans and are in need of a solution.\n",
        "\n",
        "## **Business goal:**\n",
        "\n",
        "---\n",
        "\n",
        "Hydroloan intends to construct a machine learning (ML) model capable of screening customers that are prone to default on their loans. This approach would permit Hydrol risk customers beforehand and take proactive measures to decrease their default\n",
        "\n",
        "## **Objective:**\n",
        "\n",
        "To create a Machine Learning model that can effectively anticipate/predict which custon their loans, allowing Hydroloan to proactively decrease their default rate."
      ]
    },
    {
      "cell_type": "code",
      "execution_count": null,
      "metadata": {
        "id": "XGbi-BSiz9RZ"
      },
      "outputs": [],
      "source": [
        "# Import necessary libraries\n",
        "\n",
        "import pandas as pd #import our dataset and manipulation\n",
        "import numpy as np # array or list manipulation\n",
        "\n",
        "\n",
        "\n",
        "import matplotlib.pyplot as plt#creating visuals\n",
        "import seaborn as sns# visuals\n",
        "\n",
        "\n",
        "\n",
        "import warnings#remove warnings\n",
        "warnings.filterwarnings(\"ignore\")\n",
        "\n",
        "\n",
        "\n",
        "from sklearn.preprocessing import StandardScaler#(x - mean)/standard deviation\n",
        "from sklearn.model_selection import train_test_split#split dataset\n",
        "\n",
        "\n",
        "\n",
        "from sklearn.linear_model import LogisticRegression#import the algorithm\n",
        "data = pd.read_csv('Default-Fin.csv')#import dataset"
      ]
    },
    {
      "cell_type": "code",
      "execution_count": null,
      "metadata": {
        "id": "VMGFGO3Pz9Re",
        "outputId": "47f8e7e8-58a4-4c50-b13c-e8211047d666"
      },
      "outputs": [
        {
          "data": {
            "text/html": [
              "<div>\n",
              "<style scoped>\n",
              "    .dataframe tbody tr th:only-of-type {\n",
              "        vertical-align: middle;\n",
              "    }\n",
              "\n",
              "    .dataframe tbody tr th {\n",
              "        vertical-align: top;\n",
              "    }\n",
              "\n",
              "    .dataframe thead th {\n",
              "        text-align: right;\n",
              "    }\n",
              "</style>\n",
              "<table border=\"1\" class=\"dataframe\">\n",
              "  <thead>\n",
              "    <tr style=\"text-align: right;\">\n",
              "      <th></th>\n",
              "      <th>Index</th>\n",
              "      <th>Employed</th>\n",
              "      <th>Bank Balance</th>\n",
              "      <th>Annual Salary</th>\n",
              "      <th>Defaulted?</th>\n",
              "    </tr>\n",
              "  </thead>\n",
              "  <tbody>\n",
              "    <tr>\n",
              "      <th>0</th>\n",
              "      <td>1</td>\n",
              "      <td>1</td>\n",
              "      <td>8754.36</td>\n",
              "      <td>532339.56</td>\n",
              "      <td>0</td>\n",
              "    </tr>\n",
              "    <tr>\n",
              "      <th>1</th>\n",
              "      <td>2</td>\n",
              "      <td>0</td>\n",
              "      <td>9806.16</td>\n",
              "      <td>145273.56</td>\n",
              "      <td>0</td>\n",
              "    </tr>\n",
              "    <tr>\n",
              "      <th>2</th>\n",
              "      <td>3</td>\n",
              "      <td>1</td>\n",
              "      <td>12882.60</td>\n",
              "      <td>381205.68</td>\n",
              "      <td>0</td>\n",
              "    </tr>\n",
              "    <tr>\n",
              "      <th>3</th>\n",
              "      <td>4</td>\n",
              "      <td>1</td>\n",
              "      <td>6351.00</td>\n",
              "      <td>428453.88</td>\n",
              "      <td>0</td>\n",
              "    </tr>\n",
              "    <tr>\n",
              "      <th>4</th>\n",
              "      <td>5</td>\n",
              "      <td>1</td>\n",
              "      <td>9427.92</td>\n",
              "      <td>461562.00</td>\n",
              "      <td>0</td>\n",
              "    </tr>\n",
              "  </tbody>\n",
              "</table>\n",
              "</div>"
            ],
            "text/plain": [
              "   Index  Employed  Bank Balance  Annual Salary  Defaulted?\n",
              "0      1         1       8754.36      532339.56           0\n",
              "1      2         0       9806.16      145273.56           0\n",
              "2      3         1      12882.60      381205.68           0\n",
              "3      4         1       6351.00      428453.88           0\n",
              "4      5         1       9427.92      461562.00           0"
            ]
          },
          "execution_count": 223,
          "metadata": {},
          "output_type": "execute_result"
        }
      ],
      "source": [
        "#Let's see what we have in the data\n",
        "data.head()"
      ]
    },
    {
      "cell_type": "code",
      "execution_count": null,
      "metadata": {
        "id": "PLS5hjrJz9Rk",
        "outputId": "1ff5f38e-8dc7-4faf-b808-b5c392777ec6"
      },
      "outputs": [
        {
          "data": {
            "text/plain": [
              "0    9667\n",
              "1     333\n",
              "Name: Defaulted?, dtype: int64"
            ]
          },
          "execution_count": 224,
          "metadata": {},
          "output_type": "execute_result"
        }
      ],
      "source": [
        "data['Defaulted?'].value_counts()#0=not defaulted 1=defaulted"
      ]
    },
    {
      "cell_type": "code",
      "execution_count": null,
      "metadata": {
        "id": "vCfwmQTVz9Rn",
        "outputId": "6f628f70-7d99-4db5-932c-0235392d7e1e"
      },
      "outputs": [
        {
          "data": {
            "text/plain": [
              "(10000, 5)"
            ]
          },
          "execution_count": 225,
          "metadata": {},
          "output_type": "execute_result"
        }
      ],
      "source": [
        "data.shape"
      ]
    },
    {
      "cell_type": "code",
      "execution_count": null,
      "metadata": {
        "id": "xbNSogniz9Rq",
        "outputId": "8cbafc8c-21b7-42ce-a626-76193948f823"
      },
      "outputs": [
        {
          "data": {
            "text/plain": [
              "Index(['Index', 'Employed', 'Bank Balance', 'Annual Salary', 'Defaulted?'], dtype='object')"
            ]
          },
          "execution_count": 226,
          "metadata": {},
          "output_type": "execute_result"
        }
      ],
      "source": [
        "data.columns"
      ]
    },
    {
      "cell_type": "code",
      "execution_count": null,
      "metadata": {
        "id": "rQVwPO2gz9Rt",
        "outputId": "09c77541-5309-47ed-8da5-24cee8083ed3"
      },
      "outputs": [
        {
          "data": {
            "text/html": [
              "<div>\n",
              "<style scoped>\n",
              "    .dataframe tbody tr th:only-of-type {\n",
              "        vertical-align: middle;\n",
              "    }\n",
              "\n",
              "    .dataframe tbody tr th {\n",
              "        vertical-align: top;\n",
              "    }\n",
              "\n",
              "    .dataframe thead th {\n",
              "        text-align: right;\n",
              "    }\n",
              "</style>\n",
              "<table border=\"1\" class=\"dataframe\">\n",
              "  <thead>\n",
              "    <tr style=\"text-align: right;\">\n",
              "      <th></th>\n",
              "      <th>Employed</th>\n",
              "      <th>Bank Balance</th>\n",
              "      <th>Annual Salary</th>\n",
              "      <th>Defaulted?</th>\n",
              "    </tr>\n",
              "  </thead>\n",
              "  <tbody>\n",
              "    <tr>\n",
              "      <th>0</th>\n",
              "      <td>1</td>\n",
              "      <td>8754.36</td>\n",
              "      <td>532339.56</td>\n",
              "      <td>0</td>\n",
              "    </tr>\n",
              "    <tr>\n",
              "      <th>1</th>\n",
              "      <td>0</td>\n",
              "      <td>9806.16</td>\n",
              "      <td>145273.56</td>\n",
              "      <td>0</td>\n",
              "    </tr>\n",
              "  </tbody>\n",
              "</table>\n",
              "</div>"
            ],
            "text/plain": [
              "   Employed  Bank Balance  Annual Salary  Defaulted?\n",
              "0         1       8754.36      532339.56           0\n",
              "1         0       9806.16      145273.56           0"
            ]
          },
          "execution_count": 227,
          "metadata": {},
          "output_type": "execute_result"
        }
      ],
      "source": [
        "#we don't need the index loaded with the csv\n",
        "data.drop('Index',axis=1,inplace=True)\n",
        "data.head(2)"
      ]
    },
    {
      "cell_type": "code",
      "execution_count": null,
      "metadata": {
        "id": "5TLfPuQmz9Rw",
        "outputId": "30250829-0253-4a80-8215-743451579e90"
      },
      "outputs": [
        {
          "name": "stdout",
          "output_type": "stream",
          "text": [
            "max amount  31851.84\n",
            "min amount  0.0\n"
          ]
        }
      ],
      "source": [
        "print('max amount ',data['Bank Balance'].max())\n",
        "print('min amount ',data['Bank Balance'].min())"
      ]
    },
    {
      "cell_type": "code",
      "execution_count": null,
      "metadata": {
        "id": "M0EOIfT5z9Ry",
        "outputId": "29eadcff-f499-42cf-e44c-dc0f203f4bad"
      },
      "outputs": [
        {
          "data": {
            "text/plain": [
              "Employed         0\n",
              "Bank Balance     0\n",
              "Annual Salary    0\n",
              "Defaulted?       0\n",
              "dtype: int64"
            ]
          },
          "execution_count": 229,
          "metadata": {},
          "output_type": "execute_result"
        }
      ],
      "source": [
        "data.isna().sum()"
      ]
    },
    {
      "cell_type": "code",
      "execution_count": null,
      "metadata": {
        "id": "eM6KPWr8z9R0",
        "outputId": "2a03d10d-5ba6-49ae-bdf4-81089e558632"
      },
      "outputs": [
        {
          "data": {
            "image/png": "[encoded data removed]",
            "text/plain": [
              "<Figure size 1296x1080 with 2 Axes>"
            ]
          },
          "metadata": {
            "needs_background": "light"
          },
          "output_type": "display_data"
        }
      ],
      "source": [
        "corr = data.corr()\n",
        "plt.figure(figsize=(18, 15))\n",
        "sns.heatmap(corr, annot=True, vmin=-1.0, cmap='mako')\n",
        "plt.title(\"Correlation Heatmap\")\n",
        "plt.show()"
      ]
    },
    {
      "cell_type": "code",
      "execution_count": null,
      "metadata": {
        "id": "r0ikfCVEz9R2"
      },
      "outputs": [],
      "source": [
        "X=data[['Employed', 'Bank Balance', 'Annual Salary']]#idenpendent variables\n",
        "y=data['Defaulted?']#depedent variables"
      ]
    },
    {
      "cell_type": "code",
      "execution_count": null,
      "metadata": {
        "id": "47Bh2n_gz9R3"
      },
      "outputs": [],
      "source": [
        "X_train, X_test, y_train, y_test = train_test_split(X, y, test_size=0.2, random_state=1)#test set is 20%"
      ]
    },
    {
      "cell_type": "markdown",
      "metadata": {
        "id": "x-8mjvTFz9R4"
      },
      "source": [
        "#### Metrics"
      ]
    },
    {
      "cell_type": "code",
      "execution_count": null,
      "metadata": {
        "id": "_Ck-CAyaz9R6"
      },
      "outputs": [],
      "source": [
        "from sklearn.metrics import accuracy_score, precision_score, recall_score, f1_score"
      ]
    },
    {
      "cell_type": "markdown",
      "metadata": {
        "id": "-W2go5emz9R7"
      },
      "source": [
        "#### Decision Tree"
      ]
    },
    {
      "cell_type": "code",
      "execution_count": null,
      "metadata": {
        "id": "rLlsrr8az9R8"
      },
      "outputs": [],
      "source": [
        "from sklearn.model_selection import train_test_split#spliting the dataset\n",
        "from sklearn.tree import DecisionTreeClassifier#Decision tree algorithm\n",
        "from sklearn.metrics import accuracy_score, precision_score, recall_score, f1_score#metrics"
      ]
    },
    {
      "cell_type": "code",
      "execution_count": null,
      "metadata": {
        "id": "WT-Ww4AQz9R9",
        "outputId": "f35d391b-c1c7-4410-8e7a-167aa59445d8"
      },
      "outputs": [
        {
          "name": "stdout",
          "output_type": "stream",
          "text": [
            "Accuracy: 0.95\n",
            "Precision: 0.22\n",
            "recall: 0.31\n",
            "f1: 0.26\n"
          ]
        }
      ],
      "source": [
        "# Splitting the dataset into training and test sets\n",
        "X_train, X_test, y_train, y_test = train_test_split(X, y, test_size=0.2, random_state=1)\n",
        "\n",
        "# Training the Decision Tree Classifier\n",
        "clf = DecisionTreeClassifier()\n",
        "clf.fit(X_train, y_train)\n",
        "\n",
        "# Making predictions on the test set\n",
        "y_pred = clf.predict(X_test)\n",
        "\n",
        "# Evaluation metrics\n",
        "accuracy = accuracy_score(y_test, y_pred)\n",
        "precision = precision_score(y_test, y_pred)\n",
        "recall = recall_score(y_test, y_pred)\n",
        "f1 = f1_score(y_test, y_pred)\n",
        "\n",
        "print('Accuracy: %.2f' % accuracy)\n",
        "print('Precision: %.2f' % precision)\n",
        "print('recall: %.2f' % recall)\n",
        "print('f1: %.2f' % f1)"
      ]
    },
    {
      "cell_type": "markdown",
      "metadata": {
        "id": "jKjO7IKdz9R-"
      },
      "source": [
        "#### \n",
        "Positive= Defaulted = 1<br>\n",
        "Negative= Not Defaulted = 0<br>\n",
        "\n",
        "tp= Predicted positive and it is true that is predicted defaulted and it actually defaulted <br>\n",
        "\n",
        "fp= Predicted positive but it is actually negative that is predicted defaulted but it is actually not defualted <br>\n",
        "\n",
        "tn= Predicted negative and it is actually negative    that is predicted not defaulted and did not default <br>\n",
        "\n",
        "fn= Predicted negative and but is actually positive that is predicted not defaulted but the customer actually defaulted <br>\n",
        "\n",
        "\n",
        "\n",
        "Accuracy=tp+tn/tp+tn+fp+fn <br>\n",
        "precision=tp/tpfp <br>\n",
        "recall=tp/tp+fn <br>\n",
        "f1score=2(precision * Recall)/(precison+Recall)\n"
      ]
    },
    {
      "cell_type": "code",
      "execution_count": null,
      "metadata": {
        "id": "pTKK6O0cz9R_"
      },
      "outputs": [],
      "source": [
        "#0 is negative (not default) and 1 is positive (default)"
      ]
    },
    {
      "cell_type": "code",
      "execution_count": null,
      "metadata": {
        "id": "FR1QAFMbz9SA",
        "outputId": "9e91c850-eb92-4947-f17f-7c11fa1cff9f"
      },
      "outputs": [
        {
          "name": "stdout",
          "output_type": "stream",
          "text": [
            "[[1878   63]\n",
            " [  41   18]]\n"
          ]
        }
      ],
      "source": [
        "from sklearn.metrics import confusion_matrix\n",
        "confusion_matrix = confusion_matrix(y_test, y_pred)\n",
        "print(confusion_matrix)"
      ]
    },
    {
      "cell_type": "code",
      "execution_count": null,
      "metadata": {
        "id": "SJK3Se48z9SC",
        "outputId": "12675cfe-e739-4ce6-944f-9a469066a1ff"
      },
      "outputs": [
        {
          "data": {
            "text/plain": [
              "0.24390243902439024"
            ]
          },
          "execution_count": 238,
          "metadata": {},
          "output_type": "execute_result"
        }
      ],
      "source": [
        "20/(20+62)#tp=20,tn=1876,fp=65,fn=39 0 is negative (not default) and 1 is positive (default)"
      ]
    },
    {
      "cell_type": "code",
      "execution_count": null,
      "metadata": {
        "id": "fH3QoR-kz9SE",
        "outputId": "db17e7f5-c18a-4151-88fd-4e321a4a9125"
      },
      "outputs": [
        {
          "data": {
            "text/plain": [
              "0.3389830508474576"
            ]
          },
          "execution_count": 239,
          "metadata": {},
          "output_type": "execute_result"
        }
      ],
      "source": [
        "20/(20+39)#tp/tp+fn recall"
      ]
    },
    {
      "cell_type": "code",
      "execution_count": null,
      "metadata": {
        "id": "Tl1-MGdlz9SF",
        "outputId": "1270dd9c-07ee-4eb2-9d70-8887f5a25b91"
      },
      "outputs": [
        {
          "data": {
            "text/plain": [
              "2000"
            ]
          },
          "execution_count": 240,
          "metadata": {},
          "output_type": "execute_result"
        }
      ],
      "source": [
        "1879+62+39+20"
      ]
    },
    {
      "cell_type": "code",
      "execution_count": null,
      "metadata": {
        "id": "W7bQRgHiz9SH",
        "outputId": "fc2233c5-4542-4bbb-e94b-82b8c3fee2c6"
      },
      "outputs": [
        {
          "data": {
            "text/plain": [
              "0.9495"
            ]
          },
          "execution_count": 241,
          "metadata": {},
          "output_type": "execute_result"
        }
      ],
      "source": [
        "(1879+20)/2000"
      ]
    },
    {
      "cell_type": "code",
      "execution_count": null,
      "metadata": {
        "id": "dXwiah-Qz9SI",
        "outputId": "fe2dd689-f69e-4692-8001-575931e82041"
      },
      "outputs": [
        {
          "data": {
            "text/plain": [
              "array([0, 0, 0, ..., 0, 0, 0], dtype=int64)"
            ]
          },
          "execution_count": 242,
          "metadata": {},
          "output_type": "execute_result"
        }
      ],
      "source": [
        "#list(y_test)\n",
        "y_pred"
      ]
    },
    {
      "cell_type": "code",
      "execution_count": null,
      "metadata": {
        "id": "npwD2beez9SK",
        "outputId": "5a6d67a4-73a2-47ea-89a6-add5bebc400b"
      },
      "outputs": [
        {
          "name": "stdout",
          "output_type": "stream",
          "text": [
            "18\n"
          ]
        }
      ],
      "source": [
        "result=0\n",
        "for i in range(len(y_test)):\n",
        "    if list(y_test)[i] == y_pred[i] == 1:\n",
        "        result += 1\n",
        "\n",
        "print(result) # 2"
      ]
    },
    {
      "cell_type": "markdown",
      "metadata": {
        "id": "loW7NKbaz9SM"
      },
      "source": [
        "#### Logistic regression"
      ]
    },
    {
      "cell_type": "code",
      "execution_count": null,
      "metadata": {
        "id": "NQEGnOk8z9SM"
      },
      "outputs": [],
      "source": [
        "# Import LogisticRegression\n",
        "from sklearn.linear_model import LogisticRegression\n",
        "\n",
        "# Split the data into train and test sets\n",
        "X_train, X_test, y_train, y_test = train_test_split(X, y, test_size=0.2, random_state=1)\n",
        "\n",
        "# Create the logistic regression model\n",
        "log_reg = LogisticRegression()\n",
        "\n",
        "# Fit the model to the training data\n",
        "log_reg.fit(X_train, y_train)\n",
        "\n",
        "# Make predictions on the test set\n",
        "y_pred = log_reg.predict(X_test)"
      ]
    },
    {
      "cell_type": "code",
      "execution_count": null,
      "metadata": {
        "id": "T1ECba5lz9SN",
        "outputId": "ed28ef42-805e-4781-b78b-0ae6a7421048"
      },
      "outputs": [
        {
          "name": "stdout",
          "output_type": "stream",
          "text": [
            "Accuracy: 0.9705\n",
            "Precision: 0.0\n",
            "Recall: 0.0\n",
            "F1-Score: 0.0\n"
          ]
        }
      ],
      "source": [
        "#calculate the performance metrics\n",
        "accuracy = accuracy_score(y_test, y_pred)\n",
        "precision = precision_score(y_test, y_pred)\n",
        "recall = recall_score(y_test, y_pred)\n",
        "f1score = f1_score(y_test, y_pred)\n",
        "\n",
        "#print the performance metrics\n",
        "print('Accuracy:', accuracy)\n",
        "print('Precision:', precision)\n",
        "print('Recall:', recall)\n",
        "print('F1-Score:', f1score)"
      ]
    },
    {
      "cell_type": "code",
      "execution_count": null,
      "metadata": {
        "id": "Nu1ZYsA8z9SP"
      },
      "outputs": [],
      "source": [
        "scores=[]\n",
        "for i in range(1000):\n",
        "    X_train,X_test,y_train,y_test=train_test_split(X,y,test_size=0.2,random_state=i)\n",
        "    log_reg = LogisticRegression()\n",
        "\n",
        "# Fit the model to the training data\n",
        "    log_reg.fit(X_train, y_train)\n",
        "    \n",
        "    y_pred = log_reg.predict(X_test)\n",
        "    #print(precision_score(y_test, y_pred),i)\n",
        "    scores.append(precision_score(y_test, y_pred))"
      ]
    },
    {
      "cell_type": "code",
      "execution_count": null,
      "metadata": {
        "id": "ni4jBM1az9SQ",
        "outputId": "eb2e554b-3862-4332-f8db-736dd139b26d"
      },
      "outputs": [
        {
          "data": {
            "text/plain": [
              "783"
            ]
          },
          "execution_count": 247,
          "metadata": {},
          "output_type": "execute_result"
        }
      ],
      "source": [
        "np.argmax(scores)"
      ]
    },
    {
      "cell_type": "code",
      "execution_count": null,
      "metadata": {
        "id": "Fen_EQVcz9SR",
        "outputId": "211c3b11-abce-4688-eec5-b6ce83f6cb5e"
      },
      "outputs": [
        {
          "data": {
            "text/plain": [
              "0.8"
            ]
          },
          "execution_count": 248,
          "metadata": {},
          "output_type": "execute_result"
        }
      ],
      "source": [
        "scores[np.argmax(scores)]"
      ]
    },
    {
      "cell_type": "code",
      "execution_count": null,
      "metadata": {
        "id": "npR_EkGvz9SS",
        "outputId": "7d9b208d-6556-4eb1-9f97-b3cf8d8a87f4"
      },
      "outputs": [
        {
          "data": {
            "text/html": [
              "<div>\n",
              "<style scoped>\n",
              "    .dataframe tbody tr th:only-of-type {\n",
              "        vertical-align: middle;\n",
              "    }\n",
              "\n",
              "    .dataframe tbody tr th {\n",
              "        vertical-align: top;\n",
              "    }\n",
              "\n",
              "    .dataframe thead th {\n",
              "        text-align: right;\n",
              "    }\n",
              "</style>\n",
              "<table border=\"1\" class=\"dataframe\">\n",
              "  <thead>\n",
              "    <tr style=\"text-align: right;\">\n",
              "      <th></th>\n",
              "      <th>Employed</th>\n",
              "      <th>Bank Balance</th>\n",
              "      <th>Annual Salary</th>\n",
              "    </tr>\n",
              "  </thead>\n",
              "  <tbody>\n",
              "    <tr>\n",
              "      <th>8007</th>\n",
              "      <td>1</td>\n",
              "      <td>8020.80</td>\n",
              "      <td>463649.16</td>\n",
              "    </tr>\n",
              "    <tr>\n",
              "      <th>9688</th>\n",
              "      <td>1</td>\n",
              "      <td>11997.96</td>\n",
              "      <td>523933.68</td>\n",
              "    </tr>\n",
              "    <tr>\n",
              "      <th>519</th>\n",
              "      <td>0</td>\n",
              "      <td>9654.48</td>\n",
              "      <td>301097.52</td>\n",
              "    </tr>\n",
              "    <tr>\n",
              "      <th>3830</th>\n",
              "      <td>1</td>\n",
              "      <td>8095.68</td>\n",
              "      <td>509562.24</td>\n",
              "    </tr>\n",
              "    <tr>\n",
              "      <th>4057</th>\n",
              "      <td>0</td>\n",
              "      <td>8072.28</td>\n",
              "      <td>165551.52</td>\n",
              "    </tr>\n",
              "    <tr>\n",
              "      <th>...</th>\n",
              "      <td>...</td>\n",
              "      <td>...</td>\n",
              "      <td>...</td>\n",
              "    </tr>\n",
              "    <tr>\n",
              "      <th>8409</th>\n",
              "      <td>1</td>\n",
              "      <td>9758.04</td>\n",
              "      <td>591292.56</td>\n",
              "    </tr>\n",
              "    <tr>\n",
              "      <th>7583</th>\n",
              "      <td>1</td>\n",
              "      <td>19304.16</td>\n",
              "      <td>480938.64</td>\n",
              "    </tr>\n",
              "    <tr>\n",
              "      <th>8417</th>\n",
              "      <td>1</td>\n",
              "      <td>15537.12</td>\n",
              "      <td>452548.68</td>\n",
              "    </tr>\n",
              "    <tr>\n",
              "      <th>5832</th>\n",
              "      <td>1</td>\n",
              "      <td>16271.52</td>\n",
              "      <td>302496.60</td>\n",
              "    </tr>\n",
              "    <tr>\n",
              "      <th>481</th>\n",
              "      <td>1</td>\n",
              "      <td>10785.12</td>\n",
              "      <td>459204.96</td>\n",
              "    </tr>\n",
              "  </tbody>\n",
              "</table>\n",
              "<p>8000 rows × 3 columns</p>\n",
              "</div>"
            ],
            "text/plain": [
              "      Employed  Bank Balance  Annual Salary\n",
              "8007         1       8020.80      463649.16\n",
              "9688         1      11997.96      523933.68\n",
              "519          0       9654.48      301097.52\n",
              "3830         1       8095.68      509562.24\n",
              "4057         0       8072.28      165551.52\n",
              "...        ...           ...            ...\n",
              "8409         1       9758.04      591292.56\n",
              "7583         1      19304.16      480938.64\n",
              "8417         1      15537.12      452548.68\n",
              "5832         1      16271.52      302496.60\n",
              "481          1      10785.12      459204.96\n",
              "\n",
              "[8000 rows x 3 columns]"
            ]
          },
          "execution_count": 249,
          "metadata": {},
          "output_type": "execute_result"
        }
      ],
      "source": [
        "X_train"
      ]
    },
    {
      "cell_type": "code",
      "execution_count": null,
      "metadata": {
        "id": "6gIYF2doz9ST"
      },
      "outputs": [],
      "source": [
        "#data scaling steps for train data set\n",
        "from sklearn.preprocessing import StandardScaler#(x - mean)/standard deviation\n",
        "scaler = StandardScaler()\n",
        "X_train_scaled  =scaler.fit_transform(X_train)\n",
        "X_train = pd.DataFrame(X_train_scaled, index=X_train.index, columns = X_train.columns)"
      ]
    },
    {
      "cell_type": "code",
      "execution_count": null,
      "metadata": {
        "id": "ljKKEhpEz9SU"
      },
      "outputs": [],
      "source": [
        "X_test_scaled = scaler.transform(X_test)\n",
        "X_test = pd.DataFrame(X_test_scaled, index=X_test.index, columns = X_test.columns)"
      ]
    },
    {
      "cell_type": "code",
      "execution_count": null,
      "metadata": {
        "id": "l5RpZnGtz9SV"
      },
      "outputs": [],
      "source": [
        "#X_train.Employed.unique()"
      ]
    },
    {
      "cell_type": "code",
      "execution_count": null,
      "metadata": {
        "id": "LqBu6l9zz9SW",
        "outputId": "c9460595-e5c1-40c8-f035-9273691ce9d6"
      },
      "outputs": [
        {
          "data": {
            "text/plain": [
              "-1.7399411163505931"
            ]
          },
          "execution_count": 253,
          "metadata": {},
          "output_type": "execute_result"
        }
      ],
      "source": [
        "X_train['Bank Balance'].min()"
      ]
    },
    {
      "cell_type": "code",
      "execution_count": null,
      "metadata": {
        "id": "MPADxmhRz9SX"
      },
      "outputs": [],
      "source": [
        "# Import LogisticRegression\n",
        "from sklearn.linear_model import LogisticRegression\n",
        "\n",
        "# Split the data into train and test sets\n",
        "X_train, X_test, y_train, y_test = train_test_split(X, y, test_size=0.2, random_state=783)\n",
        "\n",
        "# Create the logistic regression model\n",
        "log_reg = LogisticRegression()\n",
        "\n",
        "# Fit the model to the training data\n",
        "log_reg.fit(X_train, y_train)\n",
        "\n",
        "# Make predictions on the test set\n",
        "y_pred = log_reg.predict(X_test)"
      ]
    },
    {
      "cell_type": "code",
      "execution_count": null,
      "metadata": {
        "id": "bk9wLq2Pz9SY",
        "outputId": "795d16f3-bf1c-4d55-d630-59d00418d2b5"
      },
      "outputs": [
        {
          "name": "stdout",
          "output_type": "stream",
          "text": [
            "Accuracy: 0.971\n",
            "Precision: 0.8\n",
            "Recall: 0.3157894736842105\n",
            "F1-Score: 0.45283018867924535\n"
          ]
        }
      ],
      "source": [
        "#calculate the performance metrics\n",
        "accuracy = accuracy_score(y_test, y_pred)\n",
        "precision = precision_score(y_test, y_pred)\n",
        "recall = recall_score(y_test, y_pred)\n",
        "f1score = f1_score(y_test, y_pred)\n",
        "\n",
        "#print the performance metrics\n",
        "print('Accuracy:', accuracy)\n",
        "print('Precision:', precision)\n",
        "print('Recall:', recall)\n",
        "print('F1-Score:', f1score)"
      ]
    },
    {
      "cell_type": "code",
      "execution_count": null,
      "metadata": {
        "id": "5iizGYEMz9Si"
      },
      "outputs": [],
      "source": []
    }
  ],
  "metadata": {
    "kernelspec": {
      "display_name": "Python 3 (ipykernel)",
      "language": "python",
      "name": "python3"
    },
    "language_info": {
      "codemirror_mode": {
        "name": "ipython",
        "version": 3
      },
      "file_extension": ".py",
      "mimetype": "text/x-python",
      "name": "python",
      "nbconvert_exporter": "python",
      "pygments_lexer": "ipython3",
      "version": "3.9.7"
    },
    "colab": {
      "provenance": [],
      "include_colab_link": true
    }
  },
  "nbformat": 4,
  "nbformat_minor": 0
}